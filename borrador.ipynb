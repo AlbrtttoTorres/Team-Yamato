{
 "cells": [
  {
   "cell_type": "code",
   "execution_count": 47,
   "id": "baae7bc4-6893-4439-993b-52155a281d19",
   "metadata": {},
   "outputs": [],
   "source": [
    "import numpy as np\n",
    "import pandas as pd\n",
    "import random"
   ]
  },
  {
   "cell_type": "code",
   "execution_count": 67,
   "id": "069b957e-731c-40cf-910d-b8d555029f73",
   "metadata": {},
   "outputs": [],
   "source": [
    "def crear_tab():\n",
    "    return np.full((10, 10), ' ')\n",
    "\n",
    "def colocar_barco(tab, barco_size):\n",
    "    for size in barco_size:\n",
    "        placed = False\n",
    "        while not placed:\n",
    "            orientation = random.choice(['horizontal','vertical'])\n",
    "            if orientation == 'horizontal':\n",
    "                fila = random.randint(0, 9)\n",
    "                col = random.randint(0, 10 - size)\n",
    "                if 'O' not in tab[fila, col:col + size]:\n",
    "                    tab[fila, col: col + size] = 'O'\n",
    "                    placed = True\n",
    "                else:\n",
    "                    fila = random.randint(0, 10 - size)\n",
    "                    col = random.randint(0, 9)\n",
    "                    if 'O' not in tab[fila:fila + size, col]:\n",
    "                        tab[fila:fila + size, col] = 'O'\n",
    "                        placed = True\n",
    "\n",
    "\n",
    "def j_disparo(tab, fila, col):\n",
    "    if map_M_out[fila, col] == 'O':\n",
    "        tab[fila, col] = 'X'\n",
    "    elif map_M_out[fila, col] == ' ':\n",
    "        tab[fila, col] = '---'\n",
    "    else: \n",
    "        print('Ya has disparado aqui')\n",
    "        \n",
    "\n",
    "def m_disparo(tab):\n",
    "    while True:\n",
    "        fila, col = random.randint(0, 9), random.randint(0, 9)\n",
    "        if tab[fila, col] in [' ', 'O']:\n",
    "            if tab[fila, col] == 'O':\n",
    "                tab[fila, col] = 'X'\n",
    "            else:\n",
    "                tab[fila, col] = '---'\n",
    "            break\n",
    "\n",
    "\n",
    "def check_game_over(board):\n",
    "    return 'O' not in board"
   ]
  },
  {
   "cell_type": "code",
   "execution_count": 71,
   "id": "94b68867-abbd-479e-8aef-8a1a0bac370a",
   "metadata": {},
   "outputs": [
    {
     "name": "stdin",
     "output_type": "stream",
     "text": [
      "Introduce la fila (0-10):  5\n",
      "Introduce la columna (0-10):  8\n"
     ]
    },
    {
     "name": "stdout",
     "output_type": "stream",
     "text": [
      "Ya has disparado aqui\n",
      "Mapa Jugador:\n",
      "[[' ' ' ' ' ' ' ' ' ' ' ' ' ' ' ' ' ' ' ']\n",
      " [' ' ' ' ' ' ' ' ' ' ' ' ' ' ' ' ' ' ' ']\n",
      " [' ' ' ' ' ' ' ' ' ' ' ' ' ' ' ' ' ' ' ']\n",
      " ['O' 'O' 'O' ' ' ' ' ' ' ' ' ' ' ' ' ' ']\n",
      " [' ' ' ' ' ' ' ' ' ' 'O' 'O' 'O' 'O' 'O']\n",
      " [' ' ' ' ' ' ' ' ' ' ' ' ' ' ' ' ' ' ' ']\n",
      " [' ' 'O' 'O' 'O' 'O' 'O' 'O' ' ' ' ' ' ']\n",
      " [' ' ' ' ' ' ' ' ' ' ' ' ' ' ' ' ' ' ' ']\n",
      " [' ' ' ' ' ' ' ' ' ' ' ' ' ' ' ' ' ' ' ']\n",
      " [' ' ' ' ' ' ' ' ' ' ' ' 'O' 'O' 'O' ' ']]\n",
      "Mapa CPU:\n",
      "[[' ' ' ' ' ' ' ' ' ' ' ' ' ' ' ' ' ' ' ']\n",
      " [' ' ' ' ' ' ' ' ' ' ' ' ' ' ' ' ' ' ' ']\n",
      " [' ' ' ' ' ' ' ' ' ' ' ' ' ' ' ' ' ' ' ']\n",
      " [' ' ' ' ' ' ' ' ' ' ' ' ' ' ' ' ' ' ' ']\n",
      " [' ' ' ' ' ' ' ' ' ' ' ' ' ' ' ' ' ' ' ']\n",
      " [' ' ' ' ' ' ' ' ' ' ' ' ' ' ' ' ' ' ' ']\n",
      " [' ' ' ' ' ' ' ' ' ' ' ' ' ' ' ' ' ' ' ']\n",
      " [' ' ' ' ' ' ' ' ' ' ' ' ' ' ' ' ' ' ' ']\n",
      " [' ' ' ' ' ' ' ' ' ' ' ' ' ' ' ' ' ' ' ']\n",
      " [' ' ' ' ' ' ' ' ' ' ' ' ' ' ' ' ' ' ' ']]\n",
      "hackeo\n",
      "[['O' 'O' ' ' ' ' ' ' ' ' 'O' ' ' ' ' ' ']\n",
      " [' ' ' ' ' ' ' ' ' ' ' ' 'O' ' ' ' ' ' ']\n",
      " [' ' ' ' ' ' ' ' ' ' ' ' 'O' ' ' ' ' ' ']\n",
      " [' ' ' ' ' ' 'O' 'O' 'O' ' ' ' ' ' ' ' ']\n",
      " [' ' ' ' ' ' ' ' ' ' ' ' ' ' ' ' ' ' ' ']\n",
      " [' ' ' ' ' ' ' ' ' ' ' ' ' ' ' ' '-' ' ']\n",
      " [' ' ' ' ' ' ' ' ' ' ' ' ' ' ' ' ' ' ' ']\n",
      " [' ' ' ' ' ' ' ' ' ' ' ' ' ' ' ' ' ' ' ']\n",
      " ['O' 'O' 'O' 'O' ' ' 'O' 'O' 'O' 'O' 'O']\n",
      " [' ' ' ' ' ' ' ' ' ' ' ' ' ' ' ' ' ' ' ']]\n"
     ]
    },
    {
     "name": "stdin",
     "output_type": "stream",
     "text": [
      "Introduce la fila (0-10):  g\n"
     ]
    },
    {
     "name": "stdout",
     "output_type": "stream",
     "text": [
      "Por favor, introduce números válidos.\n"
     ]
    }
   ],
   "source": [
    "map_J_in = crear_tab()\n",
    "map_M_in = crear_tab()\n",
    "map_J_out = crear_tab()\n",
    "map_M_out = crear_tab()\n",
    "\n",
    "barco_tam = [5, 4, 3, 3, 2]\n",
    "sin_barco = [0]\n",
    "\n",
    "colocar_barco(map_J_in, barco_tam)\n",
    "colocar_barco(map_J_out, barco_tam)\n",
    "\n",
    "colocar_barco(map_M_in, sin_barco)\n",
    "colocar_barco(map_M_out, barco_tam)\n",
    "\n",
    "game_over=False\n",
    "\n",
    "while not game_over:\n",
    "    try:\n",
    "            fila = int(input(\"Introduce la fila (0-10): \"))\n",
    "            col = int(input(\"Introduce la columna (0-10): \"))\n",
    "            if 0 <= fila < 10 and 0 <= col < 10:\n",
    "                j_disparo(map_M_out, fila, col)\n",
    "                j_disparo(map_M_in, fila, col)\n",
    "            else:\n",
    "                print(\"Coordenadas fuera de rango.\")\n",
    "            print('Mapa Jugador:')\n",
    "            print(map_J_in)\n",
    "            print('Mapa CPU:')\n",
    "            print(map_M_in)\n",
    "            print('hackeo')\n",
    "            print(map_M_out)\n",
    "    except ValueError:\n",
    "        print(\"Por favor, introduce números válidos.\")\n",
    "        game_over = True\n",
    "\n",
    "\n"
   ]
  },
  {
   "cell_type": "code",
   "execution_count": null,
   "id": "0194b56b-a30a-4a0d-bd99-c8b4a5eba6cc",
   "metadata": {},
   "outputs": [],
   "source": []
  }
 ],
 "metadata": {
  "kernelspec": {
   "display_name": "Python 3 (ipykernel)",
   "language": "python",
   "name": "python3"
  },
  "language_info": {
   "codemirror_mode": {
    "name": "ipython",
    "version": 3
   },
   "file_extension": ".py",
   "mimetype": "text/x-python",
   "name": "python",
   "nbconvert_exporter": "python",
   "pygments_lexer": "ipython3",
   "version": "3.11.7"
  }
 },
 "nbformat": 4,
 "nbformat_minor": 5
}
